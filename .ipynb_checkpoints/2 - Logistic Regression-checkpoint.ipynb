{
 "cells": [
  {
   "cell_type": "code",
   "execution_count": 2,
   "id": "837b2cc2-c6e4-4380-ac88-3a4507b9bc8e",
   "metadata": {},
   "outputs": [],
   "source": [
    "# import libraries\n",
    "from sklearn.datasets import load_digits\n",
    "from sklearn.model_selection import train_test_split\n",
    "from sklearn import metrics\n",
    "import numpy as np\n",
    "import matplotlib.pyplot as plt\n",
    "import seaborn as sns\n",
    "%matplotlib inline\n",
    "\n",
    "# load the data\n",
    "digits = load_digits()\n"
   ]
  },
  {
   "cell_type": "code",
   "execution_count": 5,
   "id": "a0d58d42-f47f-4faa-b222-c2abf5bdf8eb",
   "metadata": {},
   "outputs": [
    {
     "name": "stdout",
     "output_type": "stream",
     "text": [
      "Image data shape (1797, 64)\n",
      "Label data shape (1797,)\n"
     ]
    }
   ],
   "source": [
    "print('Image data shape', digits.data.shape)\n",
    "print('Label data shape', digits.target.shape)"
   ]
  },
  {
   "cell_type": "code",
   "execution_count": 9,
   "id": "27352b56-7f5e-4336-be60-b62b9a679b16",
   "metadata": {},
   "outputs": [
    {
     "data": {
      "text/plain": [
       "\"plt.figure(figsize=(20,4))\\nfor index, (image, label) in enumerate(zip(digits.data[0:5], digits.target[0:5])):\\n    plt.subplot(1, 5, index+1)\\n    plt.imshow(np.reshape(image, (0,8)), cmap*plt.cm.gray)\\n    plt.title('Training: %i\\n' % label, fontsize=20)\""
      ]
     },
     "execution_count": 9,
     "metadata": {},
     "output_type": "execute_result"
    }
   ],
   "source": [
    "'''plt.figure(figsize=(20,4))\n",
    "for index, (image, label) in enumerate(zip(digits.data[0:5], digits.target[0:5])):\n",
    "    plt.subplot(1, 5, index+1)\n",
    "    plt.imshow(np.reshape(image, (0,8)), cmap*plt.cm.gray)\n",
    "    plt.title('Training: %i\\n' % label, fontsize=20)'''"
   ]
  },
  {
   "cell_type": "code",
   "execution_count": null,
   "id": "31d4d42b-636b-42d1-8e22-25bb345d8080",
   "metadata": {},
   "outputs": [],
   "source": []
  }
 ],
 "metadata": {
  "kernelspec": {
   "display_name": "Python 3 (ipykernel)",
   "language": "python",
   "name": "python3"
  },
  "language_info": {
   "codemirror_mode": {
    "name": "ipython",
    "version": 3
   },
   "file_extension": ".py",
   "mimetype": "text/x-python",
   "name": "python",
   "nbconvert_exporter": "python",
   "pygments_lexer": "ipython3",
   "version": "3.11.7"
  }
 },
 "nbformat": 4,
 "nbformat_minor": 5
}

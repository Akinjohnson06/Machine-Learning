{
 "cells": [
  {
   "cell_type": "markdown",
   "id": "e5278c5b-8ac8-4bf0-9c9f-b9e08e860838",
   "metadata": {},
   "source": [
    "### Learning Guide\n",
    "1. What is K Nearest Neigbour?\n",
    "2. Why do we need KNN?\n",
    "3. How do we choose the K factor?\n",
    "4. When do we use KNN?\n",
    "5. How does KNN algorithm work?\n",
    "6. Use Case"
   ]
  },
  {
   "cell_type": "markdown",
   "id": "38c131ba-97c1-47ef-b80a-de5bdbc50346",
   "metadata": {},
   "source": [
    "## What is K Nearest Neigbour\n",
    "K Nearest Neighbors (KNN) is a simple and intuitive supervised machine learning algorithm used for both classification and regression tasks. It is a non-parametric method that makes predictions based on the majority vote of its k nearest neighbors in the feature space.\n",
    "![image](https://static.javatpoint.com/tutorial/machine-learning/images/k-nearest-neighbor-algorithm-for-machine-learning2.png)\n",
    "![image](https://miro.medium.com/v2/resize:fit:720/format:webp/0*Rxd_UYjOPrK7_gk4)\n",
    "## Why do we need KNN?\n",
    "K Nearest Neighbors (KNN) is a valuable machine learning algorithm for several reasons:\r\n",
    "\r\n",
    "1. **Simplicity**: KNN is easy to understand and implement, making it accessible even for beginners in machine learning.\r\n",
    "\r\n",
    "2. **Versatility**: KNN can be applied to both classification and regression tasks. It is effective in scenarios where the relationship between features and target variables is not explicitly defined.\r\n",
    "\r\n",
    "3. **No Training Phase**: KNN is a lazy learner, meaning it does not require a training phase. Instead, it stores all the training data and makes predictions at runtime based on the stored information.\r\n",
    "\r\n",
    "4. **Adaptability**: KNN can adapt to changes in the dataset without the need for retraining. This makes it suitable for dynamic environments where data distribution may change over time.\r\n",
    "\r\n",
    "5. **Non-parametric**: KNN does not make any assumptions about the underlying data distribution and does not estimate parameters from the data. This makes it robust and applicable to various types of data.\r\n",
    "\r\n",
    "6. **Interpretability**: KNN provides straightforward interpretations of predictions. For classification tasks, the predicted class is determined by the majority class among the nearest neighbors. For regression tasks, the predicted value is the average (or weighted average) of the target values of the nearest neighbors.\r\n",
    "\r\n",
    "7. **Effective for Small to Medium-Sized Datasets**: KNN performs well on datasets with a moderate number of features and samples. It can handle complex decision boundaries and is particularly effective when the dataset is not too large.\r\n",
    "\r\n",
    "8. **Handles Multi-Class Classification**: KNN naturally extends to multi-class classification tasks by considering the majority class among the k ne\n",
    "al-world problems."
   ]
  },
  {
   "cell_type": "markdown",
   "id": "dd96313b-6415-48d9-bad0-6cafb74ceeb4",
   "metadata": {},
   "source": [
    "## How do we choose the K factor?\n",
    "Choosing the appropriate value of the hyperparameter \\( k \\) in K Nearest Neighbors (KNN) is crucial for the performance of the algorithm. The choice of \\( k \\) affects the model's ability to generalize to unseen data, the smoothness of the decision boundary, and the trade-off between bias and variance. Here are some common approaches to choose the value of \\( k \\):\r\n",
    "\r\n",
    "1. **Grid Search**: Perform a grid search over a range of \\( k \\) values and select the one that results in the highest cross-validated accuracy (or another appropriate evaluation metric). This method is computationally expensive but provides an exhaustive search over the hyperparameter space.\r\n",
    "\r\n",
    "2. **Cross-Validation**: Use \\( k \\)-fold cross-validation to evaluate the performance of the KNN model for different values of \\( k \\). Choose the \\( k \\) value that yields the best average performance across the folds. This approach helps in assessing the model's generalization ability and reduces the risk of overfitting.\r\n",
    "\r\n",
    "3. **Odd vs. Even Values**: When \\( k \\) is an odd integer, ties can be broken more easily, leading to a more stable decision boundary. However, for binary classification problems, using an even \\( k \\) may provide better performance by reducing the risk of ties.\r\n",
    "\r\n",
    "4. **Domain Knowledge**: Consider the characteristics of the dataset and the problem domain when choosing the value of \\( k \\). For example, if the dataset is noisy, choosing a larger \\( k \\) may help in reducing the impact of outliers. Similarly, if the classes are well-separated, a smaller \\( k \\) may suffice.\r\n",
    "\r\n",
    "5. **Rule of Thumb**: A common rule of thumb is to choose \\( k \\) as the square root of the number of samples in the training set. However, this rule may not always yield the best results and should be used as a starting point for experimentation.\r\n",
    "\r\n",
    "6. **Experimentation**: Experiment with different values of \\( k \\) and evaluate the model's performance on a validation set or through cross-validation. Visualize the decision boundaries for different values of \\( k \\) to understand how they affect the model's behavior.\r\n",
    "\r\n",
    "7. **Domain-Specific Considerations**: Consider any domain-specific constraints or requirements when choosing the value of \\( k \\). For example, in applications where computational efficiency is critical, choosing a smaller \\( k \\) may be preferred.\r\n",
    "\r\n",
    "Overall, choosing the value of \\( k \\) in K Nearest Neighbors requires a combination of empirical experimentation, cross-validation, and domain knowledge. It's essential to strike a balance between bias and variance while ensuring good generalization performance\n",
    "## When do we use KNN?\n",
    "K Nearest Neighbors (KNN) is a versatile machine learning algorithm that can be used in various scenarios. Here are some common situations where KNN is suitable:\r\n",
    "\r\n",
    "1. **Classification Tasks**: KNN is often used for classification tasks, especially in scenarios where decision boundaries are complex or nonlinear. It can effectively classify data points into multiple classes based on their proximity to neighboring data points.\r\n",
    "\r\n",
    "2. **Regression Tasks**: KNN can also be applied to regression tasks, where the goal is to predict continuous target variables. In regression, KNN predicts the target value of a new data point by averaging the target values of its nearest neighbors.\r\n",
    "\r\n",
    "3. **Small to Medium-Sized Datasets**: KNN performs well on small to medium-sized datasets with a moderate number of features and samples. It can handle datasets with complex relationships between features and target variables without the need for complex assumptions about the underlying data distribution.\r\n",
    "\r\n",
    "4. **Non-parametric Learning**: KNN is a non-parametric method, meaning it does not make any assumptions about the underlying data distribution. It is suitable for situations where the data distribution is unknown or cannot be modeled easily using parametric methods.\r\n",
    "\r\n",
    "5. **Multi-Class Classification**: KNN naturally extends to multi-class classification tasks by considering the majority class among the k nearest neighbors. It is effective in scenarios with multiple classes and imbalanced class distributions.\r\n",
    "\r\n",
    "6. **Anomaly Detection**: KNN can be used for anomaly detection by identifying data points that are significantly different from their neighbors. Anomalies are often detected as data points with few or no neighboring points within a certain distance threshold.\r\n",
    "\r\n",
    "7. **Recommender Systems**: KNN-based collaborative filtering is commonly used in recommender systems to make personalized recommendations to users based on their similarity to other users or items.\r\n",
    "\r\n",
    "8. **Initial Model Exploration**: KNN can be used as a baseline model or for initial exploratory analysis of the dataset before applying more complex algorithms. It provides a simple and intuitive approach to understanding the relationships between features and target variables.\r\n",
    "\r\n",
    "Overall, KNN is a valuable tool in a data scientist's toolkit, especially in scenarios where the data distribution is complex, and the underlying relationships are not well-defined. However, it's essential to consider its limitations, such as computational complexity and sensitivity to the choice of hyperparameters, when deciding whether to use KNN for a particular task. on unseen data."
   ]
  },
  {
   "cell_type": "markdown",
   "id": "32374715-8b92-4957-8a74-cb108bd3db2b",
   "metadata": {},
   "source": [
    "## How does KNN algorithm work?:\r\n",
    "\r\n",
    "1. **Distance Metric**:\r\n",
    "   - KNN measures the distance between data points using a distance metric such as Euclidean distance, Manhattan distance, or Minkowski distance.\r\n",
    "\r\n",
    "2. **Nearest Neighbors**:\r\n",
    "   - To make a prediction for a new data point, KNN identifies the k nearest neighbors (data points) in the feature space based on the chosen distance metric.\r\n",
    "\r\n",
    "3. **Majority Vote**:\r\n",
    "   - For classification tasks, KNN predicts the class label of the new data point by taking the majority class among its k nearest neighbors.\r\n",
    "   - For regression tasks, KNN predicts the target value of the new data point by taking the average (or weighted average) of the target values of its k nearest neighbors.\r\n",
    "\r\n",
    "4. **Choosing k**:\r\n",
    "   - The value of k (number of neighbors) is a hyperparameter that needs to be specified before applying KNN. The choice of k can significantly affect the performance of the algorithm. A smaller value of k leads to a more flexible model but may be prone to noise, while a larger value of k leads to a smoother decision boundary but may oversmooh the data.\r\n",
    "\r\n",
    "### Key Concepts of KNN:\r\n",
    "\r\n",
    "- **Lazy Learner**: KNN is often referred to as a lazy learner because it does not learn a discriminative function from the training data. Instead, it memorizes the training data and makes predictions at runtime based on the stored information.\r\n",
    "\r\n",
    "- **Non-parametric Method**: KNN does not make any assumptions about the underlying data distribution and does not estimate parameters from the data.\r\n",
    "\r\n",
    "- **Distance Weighting**: In weighted KNN, the contribution of each neighbor to the prediction is weighted based on its distance from the query point. Closer neighbors have a higher influenc on the prediction.\r\n",
    "\r\n",
    "### Applications of K Nearest Neighbors:\r\n",
    "\r\n",
    "- Classification tasks (e.g., handwritten digit recognition, spam detection)\r\n",
    "- Regression tasks (e.g., predicting housing prices)\r\n",
    "- Recommender systems (e.g., movie recommendations)\r\n",
    "- Anomaly detection\r\n",
    "- Clustering (wih a variant called K-means)\r\n",
    "\r\n",
    "### Advantages of KNN:\r\n",
    "\r\n",
    "- Simple and easy to implement\r\n",
    "- No training phase (lazy learning)\r\n",
    "- Effective for small to medium-sized datasets\r\n",
    "- Handls multi-class classification tasks\r\n",
    "\r\n",
    "### Limitations of KNN:\r\n",
    "\r\n",
    "- Computationally expensive at inference time, especially for large datasets\r\n",
    "- Sensitive to the choice of distance metric and value of k\r\n",
    "- Requires careful preprocessing of data (e.g., normalization)\r\n",
    "- Not suitable for high-dimensional or sparse datasets\r\n",
    "\r\n",
    "In summary, K Nearest Neighbors is a versatile and intuitive algorithm suitable for various classification and regression tasks, especially for datasets with a well-defined distance metric and moderate size. Understanding its key concepts and parameters is crucial for effectively applying KNN in practice."
   ]
  },
  {
   "cell_type": "markdown",
   "id": "1d4986f9-09fc-4d35-85db-29f6c833c75f",
   "metadata": {
    "jp-MarkdownHeadingCollapsed": true
   },
   "source": [
    "## Use Case"
   ]
  },
  {
   "cell_type": "code",
   "execution_count": 1,
   "id": "e82d1914-812b-4498-92d2-992fc3d0b624",
   "metadata": {},
   "outputs": [],
   "source": [
    "# import libraries\n",
    "import pandas as pd\n",
    "import numpy as np\n",
    "import matplotlib.pyplot as plt\n",
    "from sklearn.model_selection import train_test_split\n",
    "from sklearn.preprocessing import StandardScaler\n",
    "from sklearn.neighbors import KNeighborsClassifier\n",
    "from sklearn.metrics import confusion_matrix, f1_score, accuracy_score # all about testing our model"
   ]
  },
  {
   "cell_type": "markdown",
   "id": "379fcc55-176d-45f3-9d21-716ca55b14a9",
   "metadata": {},
   "source": [
    "KNN - Predict wether a person will have diabetes or not"
   ]
  },
  {
   "cell_type": "code",
   "execution_count": 2,
   "id": "578c96ec-16d6-444f-ba81-26142fd308d3",
   "metadata": {},
   "outputs": [
    {
     "name": "stdout",
     "output_type": "stream",
     "text": [
      "Length of the dataset: 768\n",
      "   Pregnancies  Glucose  BloodPressure  SkinThickness  Insulin   BMI  \\\n",
      "0            6      148             72             35        0  33.6   \n",
      "1            1       85             66             29        0  26.6   \n",
      "2            8      183             64              0        0  23.3   \n",
      "3            1       89             66             23       94  28.1   \n",
      "4            0      137             40             35      168  43.1   \n",
      "\n",
      "   DiabetesPedigreeFunction  Age  Outcome  \n",
      "0                     0.627   50        1  \n",
      "1                     0.351   31        0  \n",
      "2                     0.672   32        1  \n",
      "3                     0.167   21        0  \n",
      "4                     2.288   33        1  \n",
      "(768, 9)\n"
     ]
    }
   ],
   "source": [
    "# load the data\n",
    "file = 'Datasets/diabetes.csv'\n",
    "dataset = pd.read_csv(file)\n",
    "print('Length of the dataset:',len(dataset))\n",
    "print(dataset.head())\n",
    "print(dataset.shape)"
   ]
  },
  {
   "cell_type": "code",
   "execution_count": 3,
   "id": "36d5db45-f818-4ded-a575-64d296823c07",
   "metadata": {},
   "outputs": [],
   "source": [
    "# Replacing the zero with the mean value\n",
    "zeros = ['Glucose', 'BloodPressure', 'SkinThickness', 'BMI', 'Insulin'] # make a list of the column you want to replace the zeros with\n",
    "\n",
    "# run a loop through the list that replaces the Zeros\n",
    "for column in zeros:\n",
    "    dataset[column] = dataset[column].replace(0, np.NaN) # replaces all the Zeros in each columns with NaN\n",
    "    mean = int(dataset[column].mean(skipna=True)) # Taking the mean of integer values in each columns\n",
    "    dataset[column] = dataset[column].replace(np.NaN, mean) # Replacing the NaN values with the mean\n",
    "\n",
    "# Basically, we are trying to get rid of value with no input i.e cells that has the value Zero in it"
   ]
  },
  {
   "cell_type": "code",
   "execution_count": 4,
   "id": "61743cb2-be61-4621-b567-7c1157fbd91f",
   "metadata": {},
   "outputs": [
    {
     "data": {
      "text/html": [
       "<div>\n",
       "<style scoped>\n",
       "    .dataframe tbody tr th:only-of-type {\n",
       "        vertical-align: middle;\n",
       "    }\n",
       "\n",
       "    .dataframe tbody tr th {\n",
       "        vertical-align: top;\n",
       "    }\n",
       "\n",
       "    .dataframe thead th {\n",
       "        text-align: right;\n",
       "    }\n",
       "</style>\n",
       "<table border=\"1\" class=\"dataframe\">\n",
       "  <thead>\n",
       "    <tr style=\"text-align: right;\">\n",
       "      <th></th>\n",
       "      <th>Pregnancies</th>\n",
       "      <th>Glucose</th>\n",
       "      <th>BloodPressure</th>\n",
       "      <th>SkinThickness</th>\n",
       "      <th>Insulin</th>\n",
       "      <th>BMI</th>\n",
       "      <th>DiabetesPedigreeFunction</th>\n",
       "      <th>Age</th>\n",
       "      <th>Outcome</th>\n",
       "    </tr>\n",
       "  </thead>\n",
       "  <tbody>\n",
       "    <tr>\n",
       "      <th>624</th>\n",
       "      <td>2</td>\n",
       "      <td>108.0</td>\n",
       "      <td>64.0</td>\n",
       "      <td>29.0</td>\n",
       "      <td>155.0</td>\n",
       "      <td>30.8</td>\n",
       "      <td>0.158</td>\n",
       "      <td>21</td>\n",
       "      <td>0</td>\n",
       "    </tr>\n",
       "    <tr>\n",
       "      <th>296</th>\n",
       "      <td>2</td>\n",
       "      <td>146.0</td>\n",
       "      <td>70.0</td>\n",
       "      <td>38.0</td>\n",
       "      <td>360.0</td>\n",
       "      <td>28.0</td>\n",
       "      <td>0.337</td>\n",
       "      <td>29</td>\n",
       "      <td>1</td>\n",
       "    </tr>\n",
       "    <tr>\n",
       "      <th>192</th>\n",
       "      <td>7</td>\n",
       "      <td>159.0</td>\n",
       "      <td>66.0</td>\n",
       "      <td>29.0</td>\n",
       "      <td>155.0</td>\n",
       "      <td>30.4</td>\n",
       "      <td>0.383</td>\n",
       "      <td>36</td>\n",
       "      <td>1</td>\n",
       "    </tr>\n",
       "    <tr>\n",
       "      <th>612</th>\n",
       "      <td>7</td>\n",
       "      <td>168.0</td>\n",
       "      <td>88.0</td>\n",
       "      <td>42.0</td>\n",
       "      <td>321.0</td>\n",
       "      <td>38.2</td>\n",
       "      <td>0.787</td>\n",
       "      <td>40</td>\n",
       "      <td>1</td>\n",
       "    </tr>\n",
       "    <tr>\n",
       "      <th>272</th>\n",
       "      <td>3</td>\n",
       "      <td>122.0</td>\n",
       "      <td>78.0</td>\n",
       "      <td>29.0</td>\n",
       "      <td>155.0</td>\n",
       "      <td>23.0</td>\n",
       "      <td>0.254</td>\n",
       "      <td>40</td>\n",
       "      <td>0</td>\n",
       "    </tr>\n",
       "    <tr>\n",
       "      <th>252</th>\n",
       "      <td>2</td>\n",
       "      <td>90.0</td>\n",
       "      <td>80.0</td>\n",
       "      <td>14.0</td>\n",
       "      <td>55.0</td>\n",
       "      <td>24.4</td>\n",
       "      <td>0.249</td>\n",
       "      <td>24</td>\n",
       "      <td>0</td>\n",
       "    </tr>\n",
       "    <tr>\n",
       "      <th>328</th>\n",
       "      <td>2</td>\n",
       "      <td>102.0</td>\n",
       "      <td>86.0</td>\n",
       "      <td>36.0</td>\n",
       "      <td>120.0</td>\n",
       "      <td>45.5</td>\n",
       "      <td>0.127</td>\n",
       "      <td>23</td>\n",
       "      <td>1</td>\n",
       "    </tr>\n",
       "    <tr>\n",
       "      <th>244</th>\n",
       "      <td>2</td>\n",
       "      <td>146.0</td>\n",
       "      <td>76.0</td>\n",
       "      <td>35.0</td>\n",
       "      <td>194.0</td>\n",
       "      <td>38.2</td>\n",
       "      <td>0.329</td>\n",
       "      <td>29</td>\n",
       "      <td>0</td>\n",
       "    </tr>\n",
       "    <tr>\n",
       "      <th>464</th>\n",
       "      <td>10</td>\n",
       "      <td>115.0</td>\n",
       "      <td>98.0</td>\n",
       "      <td>29.0</td>\n",
       "      <td>155.0</td>\n",
       "      <td>24.0</td>\n",
       "      <td>1.022</td>\n",
       "      <td>34</td>\n",
       "      <td>0</td>\n",
       "    </tr>\n",
       "    <tr>\n",
       "      <th>354</th>\n",
       "      <td>3</td>\n",
       "      <td>90.0</td>\n",
       "      <td>78.0</td>\n",
       "      <td>29.0</td>\n",
       "      <td>155.0</td>\n",
       "      <td>42.7</td>\n",
       "      <td>0.559</td>\n",
       "      <td>21</td>\n",
       "      <td>0</td>\n",
       "    </tr>\n",
       "  </tbody>\n",
       "</table>\n",
       "</div>"
      ],
      "text/plain": [
       "     Pregnancies  Glucose  BloodPressure  SkinThickness  Insulin   BMI  \\\n",
       "624            2    108.0           64.0           29.0    155.0  30.8   \n",
       "296            2    146.0           70.0           38.0    360.0  28.0   \n",
       "192            7    159.0           66.0           29.0    155.0  30.4   \n",
       "612            7    168.0           88.0           42.0    321.0  38.2   \n",
       "272            3    122.0           78.0           29.0    155.0  23.0   \n",
       "252            2     90.0           80.0           14.0     55.0  24.4   \n",
       "328            2    102.0           86.0           36.0    120.0  45.5   \n",
       "244            2    146.0           76.0           35.0    194.0  38.2   \n",
       "464           10    115.0           98.0           29.0    155.0  24.0   \n",
       "354            3     90.0           78.0           29.0    155.0  42.7   \n",
       "\n",
       "     DiabetesPedigreeFunction  Age  Outcome  \n",
       "624                     0.158   21        0  \n",
       "296                     0.337   29        1  \n",
       "192                     0.383   36        1  \n",
       "612                     0.787   40        1  \n",
       "272                     0.254   40        0  \n",
       "252                     0.249   24        0  \n",
       "328                     0.127   23        1  \n",
       "244                     0.329   29        0  \n",
       "464                     1.022   34        0  \n",
       "354                     0.559   21        0  "
      ]
     },
     "execution_count": 4,
     "metadata": {},
     "output_type": "execute_result"
    }
   ],
   "source": [
    "dataset.sample(10)"
   ]
  },
  {
   "cell_type": "code",
   "execution_count": 5,
   "id": "6c829990-62c9-4a0d-af53-cad39f1e8464",
   "metadata": {},
   "outputs": [],
   "source": [
    "# extracting the dependent and independent variables\n",
    "x = dataset.iloc[:, 0:8] # or we could use dataset.iloc[:, :-1]\n",
    "y = dataset.iloc[:, 8]"
   ]
  },
  {
   "cell_type": "code",
   "execution_count": 6,
   "id": "4bbe6993-48b0-49fb-a1aa-5bba4bc5e7c3",
   "metadata": {},
   "outputs": [],
   "source": [
    "# splitting the dataset into training set and test set\n",
    "x_train, x_test, y_train, y_test = train_test_split(x, y, test_size=0.2, random_state=0)"
   ]
  },
  {
   "cell_type": "code",
   "execution_count": 7,
   "id": "edcf68dc-163e-4e22-96cb-2e79bd924b5d",
   "metadata": {},
   "outputs": [
    {
     "data": {
      "text/plain": [
       "'xx = dataset.iloc[:, 0:8].values # or we could use dataset.iloc[:, :-1]\\nyy = dataset.iloc[:, 8].values'"
      ]
     },
     "execution_count": 7,
     "metadata": {},
     "output_type": "execute_result"
    }
   ],
   "source": [
    "'''xx = dataset.iloc[:, 0:8].values # or we could use dataset.iloc[:, :-1]\n",
    "yy = dataset.iloc[:, 8].values'''"
   ]
  },
  {
   "cell_type": "code",
   "execution_count": 8,
   "id": "2922978a-1079-41ba-9a3f-f18613e34f52",
   "metadata": {},
   "outputs": [],
   "source": [
    "# Feature scaling\n",
    "sc_x = StandardScaler()\n",
    "x_train = sc_x.fit_transform(x_train)\n",
    "x_test = sc_x.transform(x_test)"
   ]
  },
  {
   "cell_type": "code",
   "execution_count": 9,
   "id": "f51eb544-bd14-4431-b4b9-061d415ede40",
   "metadata": {},
   "outputs": [
    {
     "data": {
      "text/plain": [
       "12.409673645990857"
      ]
     },
     "execution_count": 9,
     "metadata": {},
     "output_type": "execute_result"
    }
   ],
   "source": [
    "import math\n",
    "math.sqrt(len(y_test)) \n",
    "# The purpose of this is to know the value of K we are going to use in the next code\n",
    "# You would want to get an odd number but if you get an even number, either you add 1 or subtract 1 from the value\n",
    "# In the next block of code, i'm going to be subtracting 1 from this value and youll be seeing the value 11 in the n_neighors"
   ]
  },
  {
   "cell_type": "code",
   "execution_count": 10,
   "id": "a5258adf-a96c-42b2-bcf6-df2c07347ed6",
   "metadata": {},
   "outputs": [
    {
     "data": {
      "text/html": [
       "<style>#sk-container-id-1 {color: black;background-color: white;}#sk-container-id-1 pre{padding: 0;}#sk-container-id-1 div.sk-toggleable {background-color: white;}#sk-container-id-1 label.sk-toggleable__label {cursor: pointer;display: block;width: 100%;margin-bottom: 0;padding: 0.3em;box-sizing: border-box;text-align: center;}#sk-container-id-1 label.sk-toggleable__label-arrow:before {content: \"▸\";float: left;margin-right: 0.25em;color: #696969;}#sk-container-id-1 label.sk-toggleable__label-arrow:hover:before {color: black;}#sk-container-id-1 div.sk-estimator:hover label.sk-toggleable__label-arrow:before {color: black;}#sk-container-id-1 div.sk-toggleable__content {max-height: 0;max-width: 0;overflow: hidden;text-align: left;background-color: #f0f8ff;}#sk-container-id-1 div.sk-toggleable__content pre {margin: 0.2em;color: black;border-radius: 0.25em;background-color: #f0f8ff;}#sk-container-id-1 input.sk-toggleable__control:checked~div.sk-toggleable__content {max-height: 200px;max-width: 100%;overflow: auto;}#sk-container-id-1 input.sk-toggleable__control:checked~label.sk-toggleable__label-arrow:before {content: \"▾\";}#sk-container-id-1 div.sk-estimator input.sk-toggleable__control:checked~label.sk-toggleable__label {background-color: #d4ebff;}#sk-container-id-1 div.sk-label input.sk-toggleable__control:checked~label.sk-toggleable__label {background-color: #d4ebff;}#sk-container-id-1 input.sk-hidden--visually {border: 0;clip: rect(1px 1px 1px 1px);clip: rect(1px, 1px, 1px, 1px);height: 1px;margin: -1px;overflow: hidden;padding: 0;position: absolute;width: 1px;}#sk-container-id-1 div.sk-estimator {font-family: monospace;background-color: #f0f8ff;border: 1px dotted black;border-radius: 0.25em;box-sizing: border-box;margin-bottom: 0.5em;}#sk-container-id-1 div.sk-estimator:hover {background-color: #d4ebff;}#sk-container-id-1 div.sk-parallel-item::after {content: \"\";width: 100%;border-bottom: 1px solid gray;flex-grow: 1;}#sk-container-id-1 div.sk-label:hover label.sk-toggleable__label {background-color: #d4ebff;}#sk-container-id-1 div.sk-serial::before {content: \"\";position: absolute;border-left: 1px solid gray;box-sizing: border-box;top: 0;bottom: 0;left: 50%;z-index: 0;}#sk-container-id-1 div.sk-serial {display: flex;flex-direction: column;align-items: center;background-color: white;padding-right: 0.2em;padding-left: 0.2em;position: relative;}#sk-container-id-1 div.sk-item {position: relative;z-index: 1;}#sk-container-id-1 div.sk-parallel {display: flex;align-items: stretch;justify-content: center;background-color: white;position: relative;}#sk-container-id-1 div.sk-item::before, #sk-container-id-1 div.sk-parallel-item::before {content: \"\";position: absolute;border-left: 1px solid gray;box-sizing: border-box;top: 0;bottom: 0;left: 50%;z-index: -1;}#sk-container-id-1 div.sk-parallel-item {display: flex;flex-direction: column;z-index: 1;position: relative;background-color: white;}#sk-container-id-1 div.sk-parallel-item:first-child::after {align-self: flex-end;width: 50%;}#sk-container-id-1 div.sk-parallel-item:last-child::after {align-self: flex-start;width: 50%;}#sk-container-id-1 div.sk-parallel-item:only-child::after {width: 0;}#sk-container-id-1 div.sk-dashed-wrapped {border: 1px dashed gray;margin: 0 0.4em 0.5em 0.4em;box-sizing: border-box;padding-bottom: 0.4em;background-color: white;}#sk-container-id-1 div.sk-label label {font-family: monospace;font-weight: bold;display: inline-block;line-height: 1.2em;}#sk-container-id-1 div.sk-label-container {text-align: center;}#sk-container-id-1 div.sk-container {/* jupyter's `normalize.less` sets `[hidden] { display: none; }` but bootstrap.min.css set `[hidden] { display: none !important; }` so we also need the `!important` here to be able to override the default hidden behavior on the sphinx rendered scikit-learn.org. See: https://github.com/scikit-learn/scikit-learn/issues/21755 */display: inline-block !important;position: relative;}#sk-container-id-1 div.sk-text-repr-fallback {display: none;}</style><div id=\"sk-container-id-1\" class=\"sk-top-container\"><div class=\"sk-text-repr-fallback\"><pre>KNeighborsClassifier(metric=&#x27;euclidean&#x27;, n_neighbors=11)</pre><b>In a Jupyter environment, please rerun this cell to show the HTML representation or trust the notebook. <br />On GitHub, the HTML representation is unable to render, please try loading this page with nbviewer.org.</b></div><div class=\"sk-container\" hidden><div class=\"sk-item\"><div class=\"sk-estimator sk-toggleable\"><input class=\"sk-toggleable__control sk-hidden--visually\" id=\"sk-estimator-id-1\" type=\"checkbox\" checked><label for=\"sk-estimator-id-1\" class=\"sk-toggleable__label sk-toggleable__label-arrow\">KNeighborsClassifier</label><div class=\"sk-toggleable__content\"><pre>KNeighborsClassifier(metric=&#x27;euclidean&#x27;, n_neighbors=11)</pre></div></div></div></div></div>"
      ],
      "text/plain": [
       "KNeighborsClassifier(metric='euclidean', n_neighbors=11)"
      ]
     },
     "execution_count": 10,
     "metadata": {},
     "output_type": "execute_result"
    }
   ],
   "source": [
    "# fitting KNN Algorithm to the Training set\n",
    "classifier = KNeighborsClassifier(n_neighbors=11, p=2, metric='euclidean') # creates an instance of logistic regression\n",
    "classifier.fit(x_train, y_train)"
   ]
  },
  {
   "cell_type": "code",
   "execution_count": 11,
   "id": "8d1c85c9-012b-4c32-a467-300a3370bc28",
   "metadata": {},
   "outputs": [
    {
     "data": {
      "text/plain": [
       "array([1, 0, 0, 1, 0, 0, 1, 1, 0, 0, 1, 1, 0, 0, 0, 0, 1, 0, 0, 0, 1, 0,\n",
       "       0, 0, 0, 0, 0, 1, 0, 0, 1, 0, 0, 1, 0, 1, 0, 0, 0, 1, 0, 0, 0, 1,\n",
       "       1, 0, 0, 0, 0, 0, 1, 0, 1, 1, 0, 0, 0, 1, 0, 1, 1, 0, 0, 1, 1, 1,\n",
       "       1, 0, 0, 0, 0, 0, 0, 1, 1, 0, 0, 1, 0, 0, 0, 0, 0, 0, 0, 0, 0, 0,\n",
       "       1, 0, 0, 0, 0, 0, 1, 0, 0, 1, 1, 1, 0, 0, 0, 0, 1, 1, 0, 1, 0, 1,\n",
       "       0, 0, 1, 1, 1, 1, 0, 0, 0, 1, 0, 0, 0, 0, 0, 0, 0, 0, 0, 0, 0, 0,\n",
       "       0, 0, 0, 1, 0, 0, 0, 0, 0, 1, 0, 0, 1, 0, 0, 0, 0, 0, 0, 0, 0, 0],\n",
       "      dtype=int64)"
      ]
     },
     "execution_count": 11,
     "metadata": {},
     "output_type": "execute_result"
    }
   ],
   "source": [
    "# Prediction\n",
    "y_pred = classifier.predict(x_test)\n",
    "y_pred"
   ]
  },
  {
   "cell_type": "code",
   "execution_count": 12,
   "id": "4bb254b0-cb36-4821-92e3-0108524b06ac",
   "metadata": {},
   "outputs": [
    {
     "name": "stdout",
     "output_type": "stream",
     "text": [
      "Confusion Matrix:\n",
      " [[94 13]\n",
      " [15 32]]\n",
      "f1_score: 0.6956521739130436\n",
      "accuracy_score: 0.8181818181818182\n"
     ]
    }
   ],
   "source": [
    "# Evaluate Model\n",
    "cm = confusion_matrix(y_test, y_pred)\n",
    "print('Confusion Matrix:\\n',cm)\n",
    "print('f1_score:',f1_score(y_test, y_pred))\n",
    "print('accuracy_score:',accuracy_score(y_test, y_pred))"
   ]
  },
  {
   "cell_type": "code",
   "execution_count": 13,
   "id": "56006670-9589-4d36-8566-cf69016c2ab9",
   "metadata": {},
   "outputs": [
    {
     "name": "stdout",
     "output_type": "stream",
     "text": [
      "Length of the dataset: 768\n",
      "   Pregnancies  Glucose  BloodPressure  SkinThickness  Insulin   BMI  \\\n",
      "0            6      148             72             35        0  33.6   \n",
      "1            1       85             66             29        0  26.6   \n",
      "2            8      183             64              0        0  23.3   \n",
      "3            1       89             66             23       94  28.1   \n",
      "4            0      137             40             35      168  43.1   \n",
      "\n",
      "   DiabetesPedigreeFunction  Age  Outcome  \n",
      "0                     0.627   50        1  \n",
      "1                     0.351   31        0  \n",
      "2                     0.672   32        1  \n",
      "3                     0.167   21        0  \n",
      "4                     2.288   33        1  \n",
      "(768, 9)\n",
      "Confusion Matrix:\n",
      " [[94 13]\n",
      " [15 32]]\n",
      "f1_score: 0.6956521739130436\n",
      "accuracy_score: 0.8181818181818182\n"
     ]
    }
   ],
   "source": [
    "# import libraries\n",
    "import pandas as pd\n",
    "import numpy as np\n",
    "from sklearn.model_selection import train_test_split\n",
    "from sklearn.preprocessing import StandardScaler\n",
    "from sklearn.neighbors import KNeighborsClassifier\n",
    "from sklearn.metrics import confusion_matrix, f1_score, accuracy_score # all about testing our model\n",
    "# load the data\n",
    "file = r\"C:\\Users\\DELL\\Data Science Library\\Machine Learning\\Datasets\\diabetes.csv\"\n",
    "dataset = pd.read_csv(file)\n",
    "print('Length of the dataset:',len(dataset))\n",
    "print(dataset.head())\n",
    "print(dataset.shape)\n",
    "# Replacing the zero with the mean value\n",
    "zeros = ['Glucose', 'BloodPressure', 'SkinThickness', 'BMI', 'Insulin'] # make a list of the column you want to replace the zeros with\n",
    "\n",
    "# run a loop through the list that replaces the Zeros\n",
    "for column in zeros:\n",
    "    dataset[column] = dataset[column].replace(0, np.NaN) # replaces all the Zeros in each columns with NaN\n",
    "    mean = int(dataset[column].mean(skipna=True)) # Taking the mean of integer values in each columns\n",
    "    dataset[column] = dataset[column].replace(np.NaN, mean) # Replacing the NaN values with the mean\n",
    "\n",
    "# Basically, we are trying to get rid of value with no input i.e cells that has the value Zero in it\n",
    "# extracting the dependent and independent variables\n",
    "x = dataset.iloc[:, 0:8] # or we could use dataset.iloc[:, :-1]\n",
    "y = dataset.iloc[:, 8]\n",
    "# splitting the dataset into training set and test set\n",
    "x_train, x_test, y_train, y_test = train_test_split(x, y, test_size=0.2, random_state=0)\n",
    "# Feature scaling\n",
    "sc_x = StandardScaler()\n",
    "x_train = sc_x.fit_transform(x_train)\n",
    "x_test = sc_x.transform(x_test)\n",
    "import math\n",
    "math.sqrt(len(y_test)) \n",
    "# The purpose of this is to know the value of K we are going to use in the next code\n",
    "# You would want to get an odd number but if you get an even number, either you add 1 or subtract 1 from the value\n",
    "# In the next block of code, i'm going to be subtracting 1 from this value and youll be seeing the value 11 in the n_neighors\n",
    "# fitting KNN Algorithm to the Training set\n",
    "classifier = KNeighborsClassifier(n_neighbors=11, p=2, metric='euclidean') # creates an instance of logistic regression\n",
    "classifier.fit(x_train, y_train)\n",
    "y_pred = classifier.predict(x_test)\n",
    "y_pred\n",
    "# Evaluate Model\n",
    "cm = confusion_matrix(y_test, y_pred)\n",
    "print('Confusion Matrix:\\n',cm)\n",
    "print('f1_score:',f1_score(y_test, y_pred))\n",
    "print('accuracy_score:',accuracy_score(y_test, y_pred))"
   ]
  },
  {
   "cell_type": "code",
   "execution_count": 14,
   "id": "61565841-604b-4520-8d17-30ec62fcead3",
   "metadata": {},
   "outputs": [
    {
     "data": {
      "text/plain": [
       "\"# Plotting the scatterplot for KNN algorithm\\nplt.figure(figsize=(10, 8))\\n\\n# Plotting points for each class in the training set\\nfor i, class_name in enumerate(np.unique(y_train)):\\n    plt.scatter(x_train[y_train == class_name, 0], x_train[y_train == class_name, 1], label=f'Class {class_name}', s=50)\\n\\n# Plotting the decision boundaries\\nh = 0.02  # step size in the mesh\\nx_min, x_max = x_train[:, 0].min() - 1, x_train[:, 0].max() + 1\\ny_min, y_max = x_train[:, 1].min() - 1, x_train[:, 1].max() + 1\\nxx, yy = np.meshgrid(np.arange(x_min, x_max, h), np.arange(y_min, y_max, h))\\nZ = classifier.predict(np.c_[xx.ravel(), yy.ravel()])\\nZ = Z.reshape(xx.shape)\\nplt.contourf(xx, yy, Z, alpha=0.4, cmap='coolwarm')\\n\\n# Adding labels and title\\nplt.xlabel('Feature 1')\\nplt.ylabel('Feature 2')\\nplt.title('KNN Decision Boundaries')\\nplt.legend()\\nplt.show()\\n\""
      ]
     },
     "execution_count": 14,
     "metadata": {},
     "output_type": "execute_result"
    }
   ],
   "source": [
    "'''# Plotting the scatterplot for KNN algorithm\n",
    "plt.figure(figsize=(10, 8))\n",
    "\n",
    "# Plotting points for each class in the training set\n",
    "for i, class_name in enumerate(np.unique(y_train)):\n",
    "    plt.scatter(x_train[y_train == class_name, 0], x_train[y_train == class_name, 1], label=f'Class {class_name}', s=50)\n",
    "\n",
    "# Plotting the decision boundaries\n",
    "h = 0.02  # step size in the mesh\n",
    "x_min, x_max = x_train[:, 0].min() - 1, x_train[:, 0].max() + 1\n",
    "y_min, y_max = x_train[:, 1].min() - 1, x_train[:, 1].max() + 1\n",
    "xx, yy = np.meshgrid(np.arange(x_min, x_max, h), np.arange(y_min, y_max, h))\n",
    "Z = classifier.predict(np.c_[xx.ravel(), yy.ravel()])\n",
    "Z = Z.reshape(xx.shape)\n",
    "plt.contourf(xx, yy, Z, alpha=0.4, cmap='coolwarm')\n",
    "\n",
    "# Adding labels and title\n",
    "plt.xlabel('Feature 1')\n",
    "plt.ylabel('Feature 2')\n",
    "plt.title('KNN Decision Boundaries')\n",
    "plt.legend()\n",
    "plt.show()\n",
    "'''"
   ]
  },
  {
   "cell_type": "code",
   "execution_count": 15,
   "id": "a38fd1be-0daa-4200-8308-963d7c1cec31",
   "metadata": {},
   "outputs": [
    {
     "data": {
      "image/png": "[encoded data removed]",
      "text/plain": [
       "<Figure size 800x600 with 2 Axes>"
      ]
     },
     "metadata": {},
     "output_type": "display_data"
    }
   ],
   "source": [
    "import seaborn as sns\n",
    "import matplotlib.pyplot as plt\n",
    "\n",
    "# Plotting the confusion matrix heatmap\n",
    "plt.figure(figsize=(8, 6))\n",
    "sns.heatmap(cm, annot=True, fmt='d', cmap='magma', cbar=True)\n",
    "plt.title('Confusion Matrix')\n",
    "plt.xlabel('Predicted Labels')\n",
    "plt.ylabel('True Labels')\n",
    "plt.show()\n"
   ]
  },
  {
   "cell_type": "markdown",
   "id": "687fd1ca-607a-4686-b715-5ac14c3a1317",
   "metadata": {
    "jp-MarkdownHeadingCollapsed": true
   },
   "source": [
    "## Side track (experiment)"
   ]
  },
  {
   "cell_type": "code",
   "execution_count": 16,
   "id": "360bed0a-509d-41be-aa1a-5cf056316327",
   "metadata": {},
   "outputs": [
    {
     "data": {
      "text/plain": [
       "'xx = dataset.iloc[:, 0:8].values # or we could use dataset.iloc[:, :-1]\\nyy = dataset.iloc[:, 8].values'"
      ]
     },
     "execution_count": 16,
     "metadata": {},
     "output_type": "execute_result"
    }
   ],
   "source": [
    "'''xx = dataset.iloc[:, 0:8].values # or we could use dataset.iloc[:, :-1]\n",
    "yy = dataset.iloc[:, 8].values'''"
   ]
  },
  {
   "cell_type": "code",
   "execution_count": 17,
   "id": "5c223c6b-8532-4e90-8129-2b744fc4f4c5",
   "metadata": {},
   "outputs": [
    {
     "data": {
      "text/plain": [
       "'xx_train, xx_test, yy_train, yy_test = train_test_split(xx, yy, test_size=0.2, random_state=20)'"
      ]
     },
     "execution_count": 17,
     "metadata": {},
     "output_type": "execute_result"
    }
   ],
   "source": [
    "'''xx_train, xx_test, yy_train, yy_test = train_test_split(xx, yy, test_size=0.2, random_state=20)'''"
   ]
  },
  {
   "cell_type": "code",
   "execution_count": 18,
   "id": "48f9e65b-3ecf-4395-b200-1cb8a01543bd",
   "metadata": {},
   "outputs": [
    {
     "data": {
      "text/plain": [
       "'clf = KNeighborsClassifier() # creates an instance of logistic regression\\nclf.fit(x_train, y_train)'"
      ]
     },
     "execution_count": 18,
     "metadata": {},
     "output_type": "execute_result"
    }
   ],
   "source": [
    "'''clf = KNeighborsClassifier() # creates an instance of logistic regression\n",
    "clf.fit(x_train, y_train)'''"
   ]
  },
  {
   "cell_type": "code",
   "execution_count": 19,
   "id": "83ebf646-0cf0-4a85-ad8c-9007e6b017d0",
   "metadata": {},
   "outputs": [
    {
     "data": {
      "text/plain": [
       "'y_predd = clf.predict(x_test)\\ny_predd'"
      ]
     },
     "execution_count": 19,
     "metadata": {},
     "output_type": "execute_result"
    }
   ],
   "source": [
    "'''y_predd = clf.predict(x_test)\n",
    "y_predd'''"
   ]
  },
  {
   "cell_type": "code",
   "execution_count": 20,
   "id": "29c5c6f1-6652-4506-9ecb-d64aef520e0f",
   "metadata": {},
   "outputs": [
    {
     "data": {
      "text/plain": [
       "\"cm = confusion_matrix(yy_test, y_predd)\\nprint('Confusion Matrix:\\n',cm)\\nprint('f1_score:',f1_score(yy_test, y_predd))\\nprint('accuracy_score:',accuracy_score(yy_test, y_predd))\""
      ]
     },
     "execution_count": 20,
     "metadata": {},
     "output_type": "execute_result"
    }
   ],
   "source": [
    "'''cm = confusion_matrix(yy_test, y_predd)\n",
    "print('Confusion Matrix:\\n',cm)\n",
    "print('f1_score:',f1_score(yy_test, y_predd))\n",
    "print('accuracy_score:',accuracy_score(yy_test, y_predd))'''"
   ]
  }
 ],
 "metadata": {
  "kernelspec": {
   "display_name": "Python 3 (ipykernel)",
   "language": "python",
   "name": "python3"
  },
  "language_info": {
   "codemirror_mode": {
    "name": "ipython",
    "version": 3
   },
   "file_extension": ".py",
   "mimetype": "text/x-python",
   "name": "python",
   "nbconvert_exporter": "python",
   "pygments_lexer": "ipython3",
   "version": "3.11.7"
  }
 },
 "nbformat": 4,
 "nbformat_minor": 5
}

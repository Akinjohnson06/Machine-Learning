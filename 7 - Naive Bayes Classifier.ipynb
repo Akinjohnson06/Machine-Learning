{
 "cells": [
  {
   "cell_type": "markdown",
   "id": "420d0c41-517b-4f91-995b-5cb396fc7a35",
   "metadata": {},
   "source": [
    "### Learning Guide\n",
    "1. What is Naive Bayes?\n",
    "2. Naive Bayes and Machine Learning\n",
    "3. Why do we need Naive Bayes?\n",
    "4. Understanding Naive Bayes Classifier\n",
    "5. Advantages of Naive Bayes Classifier\n",
    "6. Use Casee Case"
   ]
  },
  {
   "cell_type": "code",
   "execution_count": null,
   "id": "634ebdb0-b1e9-4c16-97a0-fcc0ef3ed7e8",
   "metadata": {},
   "outputs": [],
   "source": []
  }
 ],
 "metadata": {
  "kernelspec": {
   "display_name": "Python 3 (ipykernel)",
   "language": "python",
   "name": "python3"
  },
  "language_info": {
   "codemirror_mode": {
    "name": "ipython",
    "version": 3
   },
   "file_extension": ".py",
   "mimetype": "text/x-python",
   "name": "python",
   "nbconvert_exporter": "python",
   "pygments_lexer": "ipython3",
   "version": "3.11.7"
  }
 },
 "nbformat": 4,
 "nbformat_minor": 5
}

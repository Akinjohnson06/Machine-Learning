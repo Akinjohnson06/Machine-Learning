{
 "cells": [
  {
   "cell_type": "markdown",
   "id": "cabb4bf3-94ae-4a6a-a65f-ea0993e66ee8",
   "metadata": {},
   "source": [
    "### Learning Guide\n",
    "1. Introduction to Machine Learning\n",
    "2. Machine Learning Algorithms\n",
    "3. Applications on linear regression\n",
    "4. Understanding Linear regression\n",
    "5. Multiple Linear Regression\n",
    "6. Use Case"
   ]
  },
  {
   "cell_type": "markdown",
   "id": "92e07e04-d3e3-49ef-9452-03322c822b41",
   "metadata": {},
   "source": [
    "## Introduction to Machine Learning\n",
    "1. **Independent Variable**: A variable whose value does not change by the effect of other variables and is used to manipulate the dependent variable. It is often denoted as X. Independent variables, also known as predictor variables or features, are the variables that are used to predict or explain the value of the dependent variable. They are the input variables that are used to make predictions or classifications. In a housing price prediction model, the independent variables might include the size of the house (in square feet), the number of bedrooms, the location (zip code or neighborhood), the age of the house, the presence of amenities (swimming pool, garage, etc.), and other relevant features that could influence the sale price.\n",
    "2. **Dependent Variable**: A variable whose value change when there is any manipulation in the values of independent variables. It iss often denoted as Y. The dependent variable, also known as the target variable or response variable, is the variable that you want to predict or explain using the independent variables. It is the output or outcome variable that you are interested in understanding or predicting. In a housing price prediction model, the dependent variable might be the sale price of a house. The goal of the model is to predict the sale price of a house based on various independent variables such as the size of the house, number of bedrooms, location, etc."
   ]
  },
  {
   "cell_type": "markdown",
   "id": "9a31eea9-d93b-47e9-b79b-053bb97bfcbd",
   "metadata": {},
   "source": [
    "## Machine Learning Algorithms\n",
    "![Image](https://www.researchgate.net/publication/335604816/figure/fig1/AS:799391489224704@1567601191349/Overview-diagram-of-machine-learning-algorithms-Machine-learning-is-a-subset-of.png)"
   ]
  },
  {
   "cell_type": "markdown",
   "id": "4b5b9c2d-936c-4db4-81a0-1f8a5ea8d184",
   "metadata": {},
   "source": [
    "## Applications on Linear Regression\n",
    "Linear regression is a versatile statistical technique that is widely used in various fields for predictive modeling, inference, and understanding relationships between variables. Here are some common applications of linear regression:\r\n",
    "\r\n",
    "1. **Economics and Finance**:\r\n",
    "   - **Stock Price Prediction**: Linear regression can be used to model the relationship between various factors (such as past stock prices, trading volumes, and economic indicators) and predict future stock prices.\r\n",
    "   - **Housing Market Analysis**: Linear regression can help analyze the relationship between housing prices and factors such as location, square footage, number of bedrooms, and economic indicators.\r\n",
    "\r\n",
    "2. **Marketing and Advertising**:\r\n",
    "   - **Sales Forecasting**: Linear regression can be used to predict future sales based on historical sales data and marketing expenditures.\r\n",
    "   - **Customer Lifetime Value Prediction**: Linear regression can help estimate the lifetime value of customers based on their past purchase behavior and demographic information.\r\n",
    "\r\n",
    "3. **Healthcare**:\r\n",
    "   - **Medical Cost Prediction**: Linear regression can be used to predict healthcare costs based on factors such as age, gender, medical history, and lifestyle factors.\r\n",
    "   - **Disease Risk Assessment**: Linear regression can help assess the risk of developing certain diseases based on genetic markers, lifestyle factors, and medical history.\r\n",
    "\r\n",
    "4. **Social Sciences**:\r\n",
    "   - **Education Outcome Prediction**: Linear regression can be used to predict educational outcomes (such as test scores or graduation rates) based on factors such as socioeconomic status, parental education, and school resources.\r\n",
    "   - **Crime Rate Analysis**: Linear regression can help analyze the relationship between crime rates and factors such as poverty, unemployment, and policing efforts.\r\n",
    "\r\n",
    "5. **Environmental Science**:\r\n",
    "   - **Climate Modeling**: Linear regression can be used to model the relationship between climate variables (such as temperature, precipitation, and atmospheric carbon dioxide levels) and predict future climate trends.\r\n",
    "   - **Air Quality Prediction**: Linear regression can help predict air quality levels based on factors such as weather conditions, pollution sources, and geographical features.\r\n",
    "\r\n",
    "6. **Engineering**:\r\n",
    "   - **Predictive Maintenance**: Linear regression can be used to predict equipment failure or maintenance needs based on historical performance data and operating conditions.\r\n",
    "   - **Quality Control**: Linear regression can help analyze the relationship between process parameters and product quality, allowing for optimization of manufacturing processes.\r\n",
    "\r\n",
    "These are just a few examples of the diverse applications of linear regression in different fields. Linear regression's simplicity, interpretability, and ability to handle both continuous and categorical variables make it a valuable tool for data analysis and decision-making in various domains."
   ]
  },
  {
   "cell_type": "markdown",
   "id": "e9c273f5-610f-4933-a643-c0a46e2ae03e",
   "metadata": {},
   "source": [
    "## Understanding Linear Regression\n",
    "Linear regression is a fundamental statistical method used to model the relationship between a dependent variable and one or more independent variables. It's a simple yet powerful technique that helps in understanding the underlying patterns and making predictions based on data. Linear regression can be used to predict the selling price of houses based on various features such as the size of the house, the number of bedrooms, the location, etc. Here's a breakdown of how linear regression works:\r\n",
    "\r\n",
    "1. **Objective**:\r\n",
    "   - The primary goal of linear regression is to find the best-fitting linear relationship between the independent variables (also called predictors, features, or explanatory variables) and the dependent variable (also called the response variable or outcome variable).\r\n",
    "\r\n",
    "2. **Assumptions**:\r\n",
    "   - Linear regression assumes that there is a linear relationship between the independent variables and the dependent variable. It also assumes that the residuals (the differences between the observed and predicted values) are normally distributed and have constant variance (homoscedasticity).\r\n",
    "\r\n",
    "3. **Model Representation**:\r\n",
    "   - In its simplest form, linear regression can be represented by the equation:\r\n",
    "     \\[ y = \\beta_0 + \\beta_1 x_1 + \\beta_2 x_2 + \\ldots + \\beta_n x_n + \\varepsilon \\]\r\n",
    "     - \\( y \\) is the dependent variable.\r\n",
    "     - \\( \\beta_0 \\) is the y-intercept (the value of \\( y \\) when all \\( x \\) variables are zero).\r\n",
    "     - \\( \\beta_1, \\beta_2, \\ldots, \\beta_n \\) are the coefficients (or slopes) representing the change in \\( y \\) for a one-unit change in each \\( x \\) variable.\r\n",
    "     - \\( x_1, x_2, \\ldots, x_n \\) are the independent variables.\r\n",
    "     - \\( \\varepsilon \\) is the error term, representing the variability in \\( y \\) that is not explained by the linear relationship with the \\( x \\) variables.\r\n",
    "\r\n",
    "4. **Model Fitting**:\r\n",
    "   - The coefficients (\\( \\beta \\) values) of the linear regression model are estimated from the training data using a method such as ordinary least squares (OLS) regression. The goal is to minimize the sum of the squared differences between the observed and predicted values.\r\n",
    "\r\n",
    "5. **Model Evaluation**:\r\n",
    "   - Once the model is trained, its performance is evaluated using metrics such as \\( R^2 \\) (coefficient of determination), mean squared error (MSE), root mean squared error (RMSE), or others, depending on the specific application.\r\n",
    "   - These metrics help assess how well the model fits the data and how accurately it can make predictions on new, unseen data.\r\n",
    "\r\n",
    "6. **Interpretation**:\r\n",
    "   - After fitting the model, the coefficients (\\( \\beta \\) values) can be interpreted to understand the relationship between the independent variables and the dependent variable.\r\n",
    "   - A positive coefficient indicates a positive relationship (as the independent variable increases, the dependent variable also increases), while a negative coefficient indicates a negative relationship.\r\n",
    "   - The magnitude of the coefficient represents the strength of the relationship, and the \\( p \\)-value associated with each coefficient indicates its statistical significance.\r\n",
    "\r\n",
    "In summary, linear regression is a versatile and widely used statistical technique for modeling and understanding relationships between variables. It provides a simple yet powerful framework for making predictions and drawing insights from data."
   ]
  },
  {
   "cell_type": "markdown",
   "id": "89edca49-0d71-4ac6-a1ca-51124713f8de",
   "metadata": {},
   "source": [
    "## Multiple Linear Regression\n",
    "Multiple linear regression is an extension of simple linear regression that allows for modeling the relationship between a dependent variable and multiple independent variables. It's a powerful technique for understanding how several predictors influence the outcome variable and making predictions based on multiple features.\r\n",
    ". **Model Representation**:\r\n",
    "   - In multiple linear regression, the relationship between the dependent variable \\( y \\) and multiple independent variables \\( x_1, x_2, \\ldots, x_n \\) is represented by the equation:\r\n",
    "     \\[ y = \\beta_0 + \\beta_1 x_1 + \\beta_2 x_2 + \\ldots + \\beta_n x_n + \\varepsilon \\]\r\n",
    "     - \\( y \\) is the dependent variable (also called the response variable or outcome).\r\n",
    "     - \\( \\beta_0 \\) is the y-intercept (the value of \\( y \\) when all independent variables are zero).\r\n",
    "     - \\( \\beta_1, \\beta_2, \\ldots, \\beta_n \\) are the coefficients (or slopes) representing the change in \\( y \\) for a one-unit change in each independent variable.\r\n",
    "     - \\( x_1, x_2, \\ldots, x_n \\) are the independent variables (also called predictors or features).\r\n",
    "     - \\( \\varepsilon \\) is the error term, representing the variability in \\( y \\) that is not explained by the linear relationship with the independent varistical significance.\r\n",
    "\r\n",
    "Multiple linear regression is widely used in various fields, including economics, finance, healthcare, marketing, and social sciences, for predictive modeling, inference, and understanding relationships between variables. It provides a flexible and interpretable framework for analyzing complex datasets with multiple predictors."
   ]
  },
  {
   "cell_type": "markdown",
   "id": "3bd43cf4-77ff-4f92-bc94-4d5a2c137797",
   "metadata": {},
   "source": [
    "## Use Case"
   ]
  },
  {
   "cell_type": "code",
   "execution_count": 1,
   "id": "bde5c008-7200-4cba-8eb9-334f213fac8c",
   "metadata": {},
   "outputs": [],
   "source": [
    "# importing the libraries\n",
    "import numpy as np\n",
    "import pandas as pd\n",
    "import matplotlib.pyplot as plt\n",
    "import seaborn as sns\n",
    "sns.set_style(style='darkgrid')\n",
    "%matplotlib inline"
   ]
  },
  {
   "cell_type": "code",
   "execution_count": 2,
   "id": "743d8e71-4b52-4151-8a98-510e1a486ed4",
   "metadata": {},
   "outputs": [
    {
     "data": {
      "text/html": [
       "<div>\n",
       "<style scoped>\n",
       "    .dataframe tbody tr th:only-of-type {\n",
       "        vertical-align: middle;\n",
       "    }\n",
       "\n",
       "    .dataframe tbody tr th {\n",
       "        vertical-align: top;\n",
       "    }\n",
       "\n",
       "    .dataframe thead th {\n",
       "        text-align: right;\n",
       "    }\n",
       "</style>\n",
       "<table border=\"1\" class=\"dataframe\">\n",
       "  <thead>\n",
       "    <tr style=\"text-align: right;\">\n",
       "      <th></th>\n",
       "      <th>R&amp;D Spend</th>\n",
       "      <th>Administration</th>\n",
       "      <th>Marketing Spend</th>\n",
       "      <th>State</th>\n",
       "      <th>Profit</th>\n",
       "    </tr>\n",
       "  </thead>\n",
       "  <tbody>\n",
       "    <tr>\n",
       "      <th>0</th>\n",
       "      <td>165349.20</td>\n",
       "      <td>136897.80</td>\n",
       "      <td>471784.10</td>\n",
       "      <td>New York</td>\n",
       "      <td>192261.83</td>\n",
       "    </tr>\n",
       "    <tr>\n",
       "      <th>1</th>\n",
       "      <td>162597.70</td>\n",
       "      <td>151377.59</td>\n",
       "      <td>443898.53</td>\n",
       "      <td>California</td>\n",
       "      <td>191792.06</td>\n",
       "    </tr>\n",
       "    <tr>\n",
       "      <th>2</th>\n",
       "      <td>153441.51</td>\n",
       "      <td>101145.55</td>\n",
       "      <td>407934.54</td>\n",
       "      <td>Florida</td>\n",
       "      <td>191050.39</td>\n",
       "    </tr>\n",
       "    <tr>\n",
       "      <th>3</th>\n",
       "      <td>144372.41</td>\n",
       "      <td>118671.85</td>\n",
       "      <td>383199.62</td>\n",
       "      <td>New York</td>\n",
       "      <td>182901.99</td>\n",
       "    </tr>\n",
       "    <tr>\n",
       "      <th>4</th>\n",
       "      <td>142107.34</td>\n",
       "      <td>91391.77</td>\n",
       "      <td>366168.42</td>\n",
       "      <td>Florida</td>\n",
       "      <td>166187.94</td>\n",
       "    </tr>\n",
       "  </tbody>\n",
       "</table>\n",
       "</div>"
      ],
      "text/plain": [
       "   R&D Spend  Administration  Marketing Spend       State     Profit\n",
       "0  165349.20       136897.80        471784.10    New York  192261.83\n",
       "1  162597.70       151377.59        443898.53  California  191792.06\n",
       "2  153441.51       101145.55        407934.54     Florida  191050.39\n",
       "3  144372.41       118671.85        383199.62    New York  182901.99\n",
       "4  142107.34        91391.77        366168.42     Florida  166187.94"
      ]
     },
     "execution_count": 2,
     "metadata": {},
     "output_type": "execute_result"
    }
   ],
   "source": [
    "# Importing the dataset and extracting the dependent and independent variable\n",
    "companies = pd.read_csv('Datasets/1000_Companies.csv')\n",
    "# extracting the dependent and independent variables\n",
    "X = companies.iloc[:, :-1].values # independent Variables (Every other column except Profit Column)\n",
    "y = companies.iloc[:, 4].values # dependent Variables (Profit)\n",
    "companies.head() # just to see the top 5 rows of the companies data"
   ]
  },
  {
   "cell_type": "code",
   "execution_count": 3,
   "id": "cc42b379-f4de-4971-a485-aaeebe0ad55c",
   "metadata": {},
   "outputs": [
    {
     "name": "stdout",
     "output_type": "stream",
     "text": [
      "[0.0 0.0 1.0 165349.2 136897.8 471784.1]\n"
     ]
    }
   ],
   "source": [
    "# Encoding categorical data\n",
    "# Scikit Learn cannot work with Strings so we convert those strings to numbers\n",
    "from sklearn.compose import ColumnTransformer\n",
    "from sklearn.preprocessing import OneHotEncoder\n",
    "\n",
    "# Assuming X is your feature matrix containing categorical data in the 4th column (index 3)\n",
    "# Create a ColumnTransformer to apply OneHotEncoder to the categorical column\n",
    "ct = ColumnTransformer(transformers=[('encoder', OneHotEncoder(), [3])], remainder='passthrough')\n",
    "X = np.array(ct.fit_transform(X))\n",
    "\n",
    "# Print the first row of the transformed feature matrix\n",
    "print(X[0])"
   ]
  },
  {
   "cell_type": "code",
   "execution_count": 4,
   "id": "8ffbc95d-7db1-49dc-9e00-cc717fe305c9",
   "metadata": {},
   "outputs": [
    {
     "data": {
      "text/plain": [
       "array([[0.0, 1.0, 165349.2, 136897.8, 471784.1],\n",
       "       [0.0, 0.0, 162597.7, 151377.59, 443898.53],\n",
       "       [1.0, 0.0, 153441.51, 101145.55, 407934.54],\n",
       "       ...,\n",
       "       [0.0, 0.0, 100275.47, 241926.31, 227142.82],\n",
       "       [0.0, 0.0, 128456.23, 321652.14, 281692.32],\n",
       "       [0.0, 1.0, 161181.72, 270939.86, 295442.17]], dtype=object)"
      ]
     },
     "execution_count": 4,
     "metadata": {},
     "output_type": "execute_result"
    }
   ],
   "source": [
    "X = X[:, 1:]\n",
    "X"
   ]
  },
  {
   "cell_type": "code",
   "execution_count": 5,
   "id": "18217b9a-bca8-4546-be0c-f8b670a96e2e",
   "metadata": {},
   "outputs": [],
   "source": [
    "# splitting the dataset into training set and test set\n",
    "from sklearn.model_selection import train_test_split\n",
    "X_train, X_test, y_train, y_test = train_test_split(X, y, test_size=0.2, random_state=0)"
   ]
  },
  {
   "cell_type": "code",
   "execution_count": 6,
   "id": "1923d3d3-d5b3-404f-94b9-e5f5fd3f0fb0",
   "metadata": {},
   "outputs": [
    {
     "data": {
      "text/html": [
       "<style>#sk-container-id-1 {color: black;background-color: white;}#sk-container-id-1 pre{padding: 0;}#sk-container-id-1 div.sk-toggleable {background-color: white;}#sk-container-id-1 label.sk-toggleable__label {cursor: pointer;display: block;width: 100%;margin-bottom: 0;padding: 0.3em;box-sizing: border-box;text-align: center;}#sk-container-id-1 label.sk-toggleable__label-arrow:before {content: \"▸\";float: left;margin-right: 0.25em;color: #696969;}#sk-container-id-1 label.sk-toggleable__label-arrow:hover:before {color: black;}#sk-container-id-1 div.sk-estimator:hover label.sk-toggleable__label-arrow:before {color: black;}#sk-container-id-1 div.sk-toggleable__content {max-height: 0;max-width: 0;overflow: hidden;text-align: left;background-color: #f0f8ff;}#sk-container-id-1 div.sk-toggleable__content pre {margin: 0.2em;color: black;border-radius: 0.25em;background-color: #f0f8ff;}#sk-container-id-1 input.sk-toggleable__control:checked~div.sk-toggleable__content {max-height: 200px;max-width: 100%;overflow: auto;}#sk-container-id-1 input.sk-toggleable__control:checked~label.sk-toggleable__label-arrow:before {content: \"▾\";}#sk-container-id-1 div.sk-estimator input.sk-toggleable__control:checked~label.sk-toggleable__label {background-color: #d4ebff;}#sk-container-id-1 div.sk-label input.sk-toggleable__control:checked~label.sk-toggleable__label {background-color: #d4ebff;}#sk-container-id-1 input.sk-hidden--visually {border: 0;clip: rect(1px 1px 1px 1px);clip: rect(1px, 1px, 1px, 1px);height: 1px;margin: -1px;overflow: hidden;padding: 0;position: absolute;width: 1px;}#sk-container-id-1 div.sk-estimator {font-family: monospace;background-color: #f0f8ff;border: 1px dotted black;border-radius: 0.25em;box-sizing: border-box;margin-bottom: 0.5em;}#sk-container-id-1 div.sk-estimator:hover {background-color: #d4ebff;}#sk-container-id-1 div.sk-parallel-item::after {content: \"\";width: 100%;border-bottom: 1px solid gray;flex-grow: 1;}#sk-container-id-1 div.sk-label:hover label.sk-toggleable__label {background-color: #d4ebff;}#sk-container-id-1 div.sk-serial::before {content: \"\";position: absolute;border-left: 1px solid gray;box-sizing: border-box;top: 0;bottom: 0;left: 50%;z-index: 0;}#sk-container-id-1 div.sk-serial {display: flex;flex-direction: column;align-items: center;background-color: white;padding-right: 0.2em;padding-left: 0.2em;position: relative;}#sk-container-id-1 div.sk-item {position: relative;z-index: 1;}#sk-container-id-1 div.sk-parallel {display: flex;align-items: stretch;justify-content: center;background-color: white;position: relative;}#sk-container-id-1 div.sk-item::before, #sk-container-id-1 div.sk-parallel-item::before {content: \"\";position: absolute;border-left: 1px solid gray;box-sizing: border-box;top: 0;bottom: 0;left: 50%;z-index: -1;}#sk-container-id-1 div.sk-parallel-item {display: flex;flex-direction: column;z-index: 1;position: relative;background-color: white;}#sk-container-id-1 div.sk-parallel-item:first-child::after {align-self: flex-end;width: 50%;}#sk-container-id-1 div.sk-parallel-item:last-child::after {align-self: flex-start;width: 50%;}#sk-container-id-1 div.sk-parallel-item:only-child::after {width: 0;}#sk-container-id-1 div.sk-dashed-wrapped {border: 1px dashed gray;margin: 0 0.4em 0.5em 0.4em;box-sizing: border-box;padding-bottom: 0.4em;background-color: white;}#sk-container-id-1 div.sk-label label {font-family: monospace;font-weight: bold;display: inline-block;line-height: 1.2em;}#sk-container-id-1 div.sk-label-container {text-align: center;}#sk-container-id-1 div.sk-container {/* jupyter's `normalize.less` sets `[hidden] { display: none; }` but bootstrap.min.css set `[hidden] { display: none !important; }` so we also need the `!important` here to be able to override the default hidden behavior on the sphinx rendered scikit-learn.org. See: https://github.com/scikit-learn/scikit-learn/issues/21755 */display: inline-block !important;position: relative;}#sk-container-id-1 div.sk-text-repr-fallback {display: none;}</style><div id=\"sk-container-id-1\" class=\"sk-top-container\"><div class=\"sk-text-repr-fallback\"><pre>LinearRegression()</pre><b>In a Jupyter environment, please rerun this cell to show the HTML representation or trust the notebook. <br />On GitHub, the HTML representation is unable to render, please try loading this page with nbviewer.org.</b></div><div class=\"sk-container\" hidden><div class=\"sk-item\"><div class=\"sk-estimator sk-toggleable\"><input class=\"sk-toggleable__control sk-hidden--visually\" id=\"sk-estimator-id-1\" type=\"checkbox\" checked><label for=\"sk-estimator-id-1\" class=\"sk-toggleable__label sk-toggleable__label-arrow\">LinearRegression</label><div class=\"sk-toggleable__content\"><pre>LinearRegression()</pre></div></div></div></div></div>"
      ],
      "text/plain": [
       "LinearRegression()"
      ]
     },
     "execution_count": 6,
     "metadata": {},
     "output_type": "execute_result"
    }
   ],
   "source": [
    "# fitting Linear Regression to the Training set\n",
    "from sklearn.linear_model import LinearRegression\n",
    "regressor = LinearRegression() # creates an instance of linear regression\n",
    "regressor.fit(X_train, y_train)"
   ]
  },
  {
   "cell_type": "code",
   "execution_count": 7,
   "id": "b88dd91e-dff5-4c00-a120-378c0d6ba97d",
   "metadata": {
    "scrolled": true
   },
   "outputs": [
    {
     "data": {
      "text/plain": [
       "array([ 89790.61532915,  88427.0718736 ,  94894.67836971, 175680.86725612,\n",
       "        83411.73042088, 110571.90200074, 132145.2293644 ,  91473.37719686,\n",
       "       164597.05380607,  53222.82667399,  66950.19050988, 150566.43987005,\n",
       "       126915.20858596,  59337.85971049, 177513.91053063,  75316.2814305 ,\n",
       "       118248.14406603, 164574.40699903, 170937.2898107 , 182069.11645086,\n",
       "       118845.03252688,  85669.95112228, 180992.59396145,  84145.08220144,\n",
       "       105005.83769214, 101233.56772746,  53831.07669089,  56881.41475223,\n",
       "        68896.39346904, 210040.00765885, 120778.72270894, 111724.87157654,\n",
       "       101487.90541517, 137959.02649624,  63969.95996742, 108857.91214126,\n",
       "       186014.72531989, 171442.64130748, 174644.26529206, 117671.49128195,\n",
       "        96731.37857433, 165452.2577941 , 107724.34331255,  50194.54176912,\n",
       "       116513.89532179,  58632.48986819, 158416.46827611,  78541.48521609,\n",
       "       159727.66671744, 131137.87699644, 184880.70924518, 174609.08266881,\n",
       "        93745.66352058,  78341.13383417, 180745.90439081,  84461.61490551,\n",
       "       142900.90602903, 170618.44098398,  84365.09530838, 105307.3716218 ,\n",
       "       141660.07290787,  52527.3434044 , 141842.96264161, 139176.27973195,\n",
       "        98294.52669666, 113586.86790969, 126754.21895489, 152135.51985562,\n",
       "        58864.51658954, 174285.57361131, 124624.04380784, 169065.77658979,\n",
       "        91279.33198209, 156170.37268963,  84307.26579365,  77877.75223096,\n",
       "       120414.02421346,  93380.44273241, 139020.62514121, 143604.67103573,\n",
       "       171148.30815369, 140082.97050132, 106369.71689747, 155641.43851388,\n",
       "       140030.10330037, 110172.87893524,  69672.98677563,  88148.52068041,\n",
       "       140133.59925094, 148479.09537888, 157916.63505258,  58532.9486314 ,\n",
       "        93707.38422389, 112646.37475705,  56556.18943659, 107414.89996181,\n",
       "       147352.80227753, 152144.10104035, 167808.11701785, 118750.25230713,\n",
       "       120763.27666701, 139029.95295663, 157527.9093412 , 121962.0621496 ,\n",
       "        87091.32399736, 104792.91384333,  95335.22679185, 178389.52287437,\n",
       "       181942.63776383, 109831.34945506, 165254.03344097, 167806.06491904,\n",
       "       158002.44642544, 174782.86900957, 170196.771027  ,  52302.1816161 ,\n",
       "       176938.11595791, 104751.83583865,  82710.31528805, 138890.52767844,\n",
       "       144274.74675425, 161679.01836441, 169662.05445896, 120450.9231013 ,\n",
       "       158880.70799547, 110213.73252824, 169674.51532367,  60760.6130084 ,\n",
       "       159036.99629069, 158169.44286049, 174511.70494476, 156294.79927785,\n",
       "       103714.37583211,  85635.96237573, 141603.54878758, 165917.69156981,\n",
       "       121182.03641977, 170751.87883894, 100505.77549411,  82097.51033127,\n",
       "       178643.18879844, 101790.48384578,  70507.40958621,  90250.04230088,\n",
       "        61247.49962678,  68912.17534519,  72775.81613474, 176914.08873126,\n",
       "        89704.69244931, 129209.43730015,  92672.90938382,  88133.59175043,\n",
       "       172836.3302162 ,  60893.62070013, 169015.89446011, 166450.24453205,\n",
       "       165425.54476416, 102170.5169499 , 181594.57928218,  73702.5794256 ,\n",
       "        91267.42979668, 135791.54160196,  64922.80257299,  71775.70235725,\n",
       "        60603.91401514, 184288.61041917, 176286.69585946, 158907.7568704 ,\n",
       "       141359.32216439, 154611.17928322,  58549.58863232,  90618.58407898,\n",
       "       152885.51163926, 168398.05223806,  72485.36274538, 116064.24350667,\n",
       "        80087.80697207, 149828.90896189, 116806.9595737 , 130191.48845161,\n",
       "       174534.4267033 , 293584.45948283, 146270.83174789, 150646.69178015,\n",
       "        86107.47782246,  69967.20842245,  70096.78368772,  69033.69170768,\n",
       "       120666.75708064,  89677.68014063, 166824.27091664, 125514.76626409,\n",
       "        67209.67687465, 140930.69427703, 118544.30490695, 165897.61905907,\n",
       "       168655.48652553, 147009.66805049, 141396.22104147, 109086.50634849])"
      ]
     },
     "execution_count": 7,
     "metadata": {},
     "output_type": "execute_result"
    }
   ],
   "source": [
    "# Make Predictions\n",
    "y_pred = regressor.predict(X_test)\n",
    "y_pred"
   ]
  },
  {
   "cell_type": "code",
   "execution_count": 8,
   "id": "10d01362-db3a-4017-94df-1d12da069e24",
   "metadata": {},
   "outputs": [
    {
     "name": "stdout",
     "output_type": "stream",
     "text": [
      "[-8.80536598e+02 -6.98169073e+02  5.25845857e-01  8.44390881e-01\n",
      "  1.07574255e-01]\n"
     ]
    }
   ],
   "source": [
    "# calculating the Coefficient\n",
    "print(regressor.coef_)"
   ]
  },
  {
   "cell_type": "code",
   "execution_count": 9,
   "id": "593ecf1a-2b8e-4aec-9509-b86143eae26b",
   "metadata": {},
   "outputs": [
    {
     "name": "stdout",
     "output_type": "stream",
     "text": [
      "-51035.22972404407\n"
     ]
    }
   ],
   "source": [
    "# Calculating the interception\n",
    "print(regressor.intercept_)"
   ]
  },
  {
   "cell_type": "code",
   "execution_count": 10,
   "id": "36ee2aa7-7229-4922-b200-703c972b08f3",
   "metadata": {},
   "outputs": [
    {
     "data": {
      "text/plain": [
       "0.911269589226883"
      ]
     },
     "execution_count": 10,
     "metadata": {},
     "output_type": "execute_result"
    }
   ],
   "source": [
    "# Accuracy test\n",
    "from sklearn.metrics import r2_score\n",
    "r2_score(y_test, y_pred)"
   ]
  },
  {
   "cell_type": "code",
   "execution_count": 11,
   "id": "02c3d10d-89b8-4ae6-aaf2-9017b73074fe",
   "metadata": {},
   "outputs": [
    {
     "data": {
      "image/png": "[encoded data removed]",
      "text/plain": [
       "<Figure size 1000x600 with 1 Axes>"
      ]
     },
     "metadata": {},
     "output_type": "display_data"
    }
   ],
   "source": [
    "# Plotting the linear regression chart\n",
    "plt.figure(figsize=(10, 6))\n",
    "plt.scatter(y_test, y_pred, color='blue')  # Actual vs. Predicted values\n",
    "plt.plot(y_test, y_test, color='red')      # Perfect fit line (y_test vs. y_test)\n",
    "plt.title('Actual vs. Predicted Profit (Linear Regression)')\n",
    "plt.xlabel('Actual Profit')\n",
    "plt.ylabel('Predicted Profit')\n",
    "plt.show()"
   ]
  }
 ],
 "metadata": {
  "kernelspec": {
   "display_name": "Python 3 (ipykernel)",
   "language": "python",
   "name": "python3"
  },
  "language_info": {
   "codemirror_mode": {
    "name": "ipython",
    "version": 3
   },
   "file_extension": ".py",
   "mimetype": "text/x-python",
   "name": "python",
   "nbconvert_exporter": "python",
   "pygments_lexer": "ipython3",
   "version": "3.11.7"
  }
 },
 "nbformat": 4,
 "nbformat_minor": 5
}
